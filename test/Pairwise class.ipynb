{
  "cells": [
    {
      "cell_type": "code",
      "execution_count": 87,
      "metadata": {},
      "outputs": [],
      "source": [
        "import pandas as pd\n",
        "import numpy as np\n",
        "from scipy import linalg"
      ]
    },
    {
      "cell_type": "code",
      "execution_count": null,
      "metadata": {},
      "outputs": [],
      "source": []
    },
    {
      "cell_type": "code",
      "execution_count": 2,
      "metadata": {},
      "outputs": [],
      "source": [
        "import os\n",
        "os.chdir(\"../\")"
      ]
    },
    {
      "cell_type": "code",
      "execution_count": 12,
      "metadata": {},
      "outputs": [],
      "source": [
        "from comchoice.datasets import load_synthetic_pairwise\n",
        "from comchoice.pairwise import Pairwise"
      ]
    },
    {
      "cell_type": "code",
      "execution_count": 18,
      "metadata": {},
      "outputs": [
        {
          "data": {
            "text/html": [
              "<div>\n",
              "<style scoped>\n",
              "    .dataframe tbody tr th:only-of-type {\n",
              "        vertical-align: middle;\n",
              "    }\n",
              "\n",
              "    .dataframe tbody tr th {\n",
              "        vertical-align: top;\n",
              "    }\n",
              "\n",
              "    .dataframe thead th {\n",
              "        text-align: right;\n",
              "    }\n",
              "</style>\n",
              "<table border=\"1\" class=\"dataframe\">\n",
              "  <thead>\n",
              "    <tr style=\"text-align: right;\">\n",
              "      <th></th>\n",
              "      <th>voter</th>\n",
              "      <th>option_a</th>\n",
              "      <th>option_b</th>\n",
              "      <th>selected</th>\n",
              "      <th>alternative_a_sorted</th>\n",
              "      <th>alternative_b_sorted</th>\n",
              "      <th>option_selected</th>\n",
              "      <th>card_id</th>\n",
              "      <th>option_source</th>\n",
              "      <th>option_target</th>\n",
              "      <th>id</th>\n",
              "    </tr>\n",
              "  </thead>\n",
              "  <tbody>\n",
              "    <tr>\n",
              "      <th>0</th>\n",
              "      <td>1</td>\n",
              "      <td>5</td>\n",
              "      <td>1</td>\n",
              "      <td>1</td>\n",
              "      <td>1</td>\n",
              "      <td>5</td>\n",
              "      <td>1</td>\n",
              "      <td>1_5</td>\n",
              "      <td>5</td>\n",
              "      <td>1</td>\n",
              "      <td>1</td>\n",
              "    </tr>\n",
              "    <tr>\n",
              "      <th>1</th>\n",
              "      <td>1</td>\n",
              "      <td>2</td>\n",
              "      <td>1</td>\n",
              "      <td>1</td>\n",
              "      <td>1</td>\n",
              "      <td>2</td>\n",
              "      <td>1</td>\n",
              "      <td>1_2</td>\n",
              "      <td>2</td>\n",
              "      <td>1</td>\n",
              "      <td>2</td>\n",
              "    </tr>\n",
              "    <tr>\n",
              "      <th>2</th>\n",
              "      <td>1</td>\n",
              "      <td>3</td>\n",
              "      <td>1</td>\n",
              "      <td>1</td>\n",
              "      <td>1</td>\n",
              "      <td>3</td>\n",
              "      <td>1</td>\n",
              "      <td>1_3</td>\n",
              "      <td>3</td>\n",
              "      <td>1</td>\n",
              "      <td>3</td>\n",
              "    </tr>\n",
              "    <tr>\n",
              "      <th>3</th>\n",
              "      <td>1</td>\n",
              "      <td>1</td>\n",
              "      <td>4</td>\n",
              "      <td>1</td>\n",
              "      <td>1</td>\n",
              "      <td>4</td>\n",
              "      <td>1</td>\n",
              "      <td>1_4</td>\n",
              "      <td>4</td>\n",
              "      <td>1</td>\n",
              "      <td>4</td>\n",
              "    </tr>\n",
              "    <tr>\n",
              "      <th>4</th>\n",
              "      <td>1</td>\n",
              "      <td>2</td>\n",
              "      <td>5</td>\n",
              "      <td>5</td>\n",
              "      <td>2</td>\n",
              "      <td>5</td>\n",
              "      <td>-1</td>\n",
              "      <td>2_5</td>\n",
              "      <td>2</td>\n",
              "      <td>5</td>\n",
              "      <td>5</td>\n",
              "    </tr>\n",
              "  </tbody>\n",
              "</table>\n",
              "</div>"
            ],
            "text/plain": [
              "   voter  option_a  option_b  selected  alternative_a_sorted  alternative_b_sorted  \\\n",
              "0      1         5         1         1                1                5   \n",
              "1      1         2         1         1                1                2   \n",
              "2      1         3         1         1                1                3   \n",
              "3      1         1         4         1                1                4   \n",
              "4      1         2         5         5                2                5   \n",
              "\n",
              "   option_selected card_id  option_source  option_target  id  \n",
              "0                1     1_5              5              1   1  \n",
              "1                1     1_2              2              1   2  \n",
              "2                1     1_3              3              1   3  \n",
              "3                1     1_4              4              1   4  \n",
              "4               -1     2_5              2              5   5  "
            ]
          },
          "execution_count": 18,
          "metadata": {},
          "output_type": "execute_result"
        }
      ],
      "source": [
        "df = load_synthetic_pairwise(n_voters=4, n_alternatives=5)\n",
        "choice = Pairwise(df)\n",
        "choice.fit()\n",
        "\n",
        "choice.df.head()"
      ]
    },
    {
      "cell_type": "code",
      "execution_count": 19,
      "metadata": {},
      "outputs": [
        {
          "data": {
            "text/html": [
              "<div>\n",
              "<style scoped>\n",
              "    .dataframe tbody tr th:only-of-type {\n",
              "        vertical-align: middle;\n",
              "    }\n",
              "\n",
              "    .dataframe tbody tr th {\n",
              "        vertical-align: top;\n",
              "    }\n",
              "\n",
              "    .dataframe thead th {\n",
              "        text-align: right;\n",
              "    }\n",
              "</style>\n",
              "<table border=\"1\" class=\"dataframe\">\n",
              "  <thead>\n",
              "    <tr style=\"text-align: right;\">\n",
              "      <th></th>\n",
              "      <th>alternative</th>\n",
              "      <th>value</th>\n",
              "    </tr>\n",
              "  </thead>\n",
              "  <tbody>\n",
              "    <tr>\n",
              "      <th>0</th>\n",
              "      <td>1</td>\n",
              "      <td>0.353404</td>\n",
              "    </tr>\n",
              "    <tr>\n",
              "      <th>1</th>\n",
              "      <td>2</td>\n",
              "      <td>0.230246</td>\n",
              "    </tr>\n",
              "    <tr>\n",
              "      <th>2</th>\n",
              "      <td>3</td>\n",
              "      <td>0.157801</td>\n",
              "    </tr>\n",
              "    <tr>\n",
              "      <th>3</th>\n",
              "      <td>4</td>\n",
              "      <td>0.060749</td>\n",
              "    </tr>\n",
              "    <tr>\n",
              "      <th>4</th>\n",
              "      <td>5</td>\n",
              "      <td>0.197801</td>\n",
              "    </tr>\n",
              "  </tbody>\n",
              "</table>\n",
              "</div>"
            ],
            "text/plain": [
              "   alternative     value\n",
              "0          1  0.353404\n",
              "1          2  0.230246\n",
              "2          3  0.157801\n",
              "3          4  0.060749\n",
              "4          5  0.197801"
            ]
          },
          "execution_count": 19,
          "metadata": {},
          "output_type": "execute_result"
        }
      ],
      "source": [
        "ahp(choice.df)"
      ]
    },
    {
      "cell_type": "code",
      "execution_count": 80,
      "metadata": {},
      "outputs": [],
      "source": [
        "S, D, Vt = np.linalg.svd(cc, full_matrices=False)"
      ]
    },
    {
      "cell_type": "code",
      "execution_count": 101,
      "metadata": {},
      "outputs": [
        {
          "data": {
            "text/plain": [
              "[0.3333333333333333, 0.3333333333333333, 0.3333333333333333]"
            ]
          },
          "execution_count": 101,
          "metadata": {},
          "output_type": "execute_result"
        }
      ],
      "source": [
        "c = cc / cc.sum()\n",
        "weight = [1/c.shape[0] for i in range(c.shape[0])]\n",
        "weight"
      ]
    },
    {
      "cell_type": "code",
      "execution_count": 195,
      "metadata": {},
      "outputs": [
        {
          "data": {
            "text/plain": [
              "array([-0.92015262, -0.39151407, -0.00599046])"
            ]
          },
          "execution_count": 195,
          "metadata": {},
          "output_type": "execute_result"
        }
      ],
      "source": [
        "dd = np.array([[1, 0.25, 4], [4, 1, 9], [0.25, 0.11111111, 1]])\n",
        "\n",
        "u, s, vT = np.linalg.svd(cc)\n",
        "u[0]"
      ]
    },
    {
      "cell_type": "code",
      "execution_count": 145,
      "metadata": {},
      "outputs": [
        {
          "data": {
            "text/plain": [
              "option_b\n",
              "Harry     1.361111\n",
              "Dick     14.000000\n",
              "Tom       5.250000\n",
              "dtype: float64"
            ]
          },
          "execution_count": 145,
          "metadata": {},
          "output_type": "execute_result"
        }
      ],
      "source": [
        "cc.sum()"
      ]
    },
    {
      "cell_type": "code",
      "execution_count": 154,
      "metadata": {},
      "outputs": [
        {
          "data": {
            "text/plain": [
              "option_a\n",
              "Harry    0.713152\n",
              "Dick     0.066893\n",
              "Tom      0.219955\n",
              "dtype: float64"
            ]
          },
          "execution_count": 154,
          "metadata": {},
          "output_type": "execute_result"
        }
      ],
      "source": [
        "\n",
        "(cc / cc.sum(axis=0)).mean(axis=1)"
      ]
    },
    {
      "cell_type": "code",
      "execution_count": 198,
      "metadata": {},
      "outputs": [
        {
          "data": {
            "text/plain": [
              "(0.03097442680776008, 0.059566205399538615)"
            ]
          },
          "execution_count": 198,
          "metadata": {},
          "output_type": "execute_result"
        }
      ],
      "source": [
        "n = 3\n",
        "\n",
        "priority=\"eigval\"\n",
        "\n",
        "_lambda = linalg.eigvals(cc)[0].real\n",
        "_lambda = np.multiply(cc.sum(axis=0), (cc / cc.sum(axis=0)).mean(axis=1)).sum()\n",
        "\n",
        "# Random Consistency Index\n",
        "random_index = {\n",
        "    1: 0, 2: 0, 3: 0.52, 4: 0.89, 5: 1.11, 6: 1.25, 7: 1.35,\n",
        "    8: 1.4, 9: 1.45, 10: 1.49, 11: 1.51, 12: 1.54, 13: 1.56, 14: 1.57, 15: 1.58\n",
        "}\n",
        "\n",
        "# Calculates Consistency Index\n",
        "ci = (_lambda - n) / (n - 1)\n",
        "\n",
        "# Calculates Consistency Ratio\n",
        "cr = ci / random_index[n]\n",
        "ci, cr"
      ]
    },
    {
      "cell_type": "code",
      "execution_count": 262,
      "metadata": {},
      "outputs": [],
      "source": [
        "def ahp(df, ppal_eigval=\"approximation\", criteria=\"criteria\"):\n",
        "    \n",
        "    def __calc(df, ppal_eigval=ppal_eigval):\n",
        "        df[\"value\"] = df[\"weight_b\"] / df[\"weight_a\"]\n",
        "\n",
        "        items = set(df[\"option_a\"]) | set(df[\"option_b\"])\n",
        "        n = len(items)\n",
        "\n",
        "        tmp = df.pivot(index=\"option_b\", columns=\"option_a\", values=\"value\")\n",
        "        tmp = tmp.reindex(items, axis=0)\n",
        "        tmp = tmp.reindex(items, axis=1)\n",
        "\n",
        "        tmp = tmp.fillna(0) + (1 / tmp.T).fillna(0)\n",
        "        np.fill_diagonal(tmp.values, 1)\n",
        "\n",
        "        sum_cols = tmp.sum(axis=0)\n",
        "        weight = tmp / tmp.sum(axis=0)\n",
        "        priority = weight.mean(axis=1)\n",
        "\n",
        "        if ppal_eigval == \"eigval\":\n",
        "            _lambda = linalg.eigvals(cc)[0].real\n",
        "        elif ppal_eigval == \"approximation\":\n",
        "            _lambda = np.multiply(sum_cols, priority).sum()\n",
        "        else:\n",
        "            raise \"Value provided to ppal_eigval parameter not valid. Values accepted are 'eigval', 'approximation'\"\n",
        "\n",
        "        priority = pd.DataFrame(priority).reset_index()\n",
        "        priority.columns = [\"option\", \"value\"]\n",
        "\n",
        "        # Calculates Consistency Index\n",
        "        ci = (_lambda - n) / (n - 1)\n",
        "\n",
        "        # Calculates Consistency Ratio\n",
        "        random_index = {\n",
        "            1: 0, 2: 0, 3: 0.52, 4: 0.89, 5: 1.11, 6: 1.25, 7: 1.35,\n",
        "            8: 1.4, 9: 1.45, 10: 1.49, 11: 1.51, 12: 1.54, 13: 1.56, 14: 1.57, 15: 1.58\n",
        "        } # Random Consistency Index\n",
        "\n",
        "        cr = ci / random_index[n]\n",
        "\n",
        "        return priority, ci, cr\n",
        "    \n",
        "    \n",
        "    if criteria in list(df):\n",
        "        output = []\n",
        "        for i, df_tmp in df.groupby(criteria):\n",
        "            priority, ci, cr = __calc(df_tmp, ppal_eigval=ppal_eigval)\n",
        "            priority[criteria] = i\n",
        "            output.append(priority)\n",
        "        \n",
        "        df_output = pd.concat(output)\n",
        "        df_output = df_output.reset_index()\n",
        "        return df_output, ci, cr\n",
        "        \n",
        "    priority, ci, cr = __calc(df, ppal_eigval=ppal_eigval)\n",
        "    \n",
        "    return priority, ci, cr"
      ]
    },
    {
      "cell_type": "code",
      "execution_count": 258,
      "metadata": {},
      "outputs": [
        {
          "data": {
            "text/html": [
              "<div>\n",
              "<style scoped>\n",
              "    .dataframe tbody tr th:only-of-type {\n",
              "        vertical-align: middle;\n",
              "    }\n",
              "\n",
              "    .dataframe tbody tr th {\n",
              "        vertical-align: top;\n",
              "    }\n",
              "\n",
              "    .dataframe thead th {\n",
              "        text-align: right;\n",
              "    }\n",
              "</style>\n",
              "<table border=\"1\" class=\"dataframe\">\n",
              "  <thead>\n",
              "    <tr style=\"text-align: right;\">\n",
              "      <th></th>\n",
              "      <th>option</th>\n",
              "      <th>value</th>\n",
              "      <th>criteria</th>\n",
              "    </tr>\n",
              "  </thead>\n",
              "  <tbody>\n",
              "    <tr>\n",
              "      <th>0</th>\n",
              "      <td>Harry</td>\n",
              "      <td>0.063736</td>\n",
              "      <td>Age</td>\n",
              "    </tr>\n",
              "    <tr>\n",
              "      <th>1</th>\n",
              "      <td>Dick</td>\n",
              "      <td>0.668864</td>\n",
              "      <td>Age</td>\n",
              "    </tr>\n",
              "    <tr>\n",
              "      <th>2</th>\n",
              "      <td>Tom</td>\n",
              "      <td>0.267399</td>\n",
              "      <td>Age</td>\n",
              "    </tr>\n",
              "    <tr>\n",
              "      <th>0</th>\n",
              "      <td>Harry</td>\n",
              "      <td>0.069058</td>\n",
              "      <td>Charisma</td>\n",
              "    </tr>\n",
              "    <tr>\n",
              "      <th>1</th>\n",
              "      <td>Dick</td>\n",
              "      <td>0.250593</td>\n",
              "      <td>Charisma</td>\n",
              "    </tr>\n",
              "    <tr>\n",
              "      <th>2</th>\n",
              "      <td>Tom</td>\n",
              "      <td>0.680349</td>\n",
              "      <td>Charisma</td>\n",
              "    </tr>\n",
              "    <tr>\n",
              "      <th>0</th>\n",
              "      <td>Harry</td>\n",
              "      <td>0.723506</td>\n",
              "      <td>Education</td>\n",
              "    </tr>\n",
              "    <tr>\n",
              "      <th>1</th>\n",
              "      <td>Dick</td>\n",
              "      <td>0.083308</td>\n",
              "      <td>Education</td>\n",
              "    </tr>\n",
              "    <tr>\n",
              "      <th>2</th>\n",
              "      <td>Tom</td>\n",
              "      <td>0.193186</td>\n",
              "      <td>Education</td>\n",
              "    </tr>\n",
              "    <tr>\n",
              "      <th>0</th>\n",
              "      <td>Harry</td>\n",
              "      <td>0.066893</td>\n",
              "      <td>Experience</td>\n",
              "    </tr>\n",
              "    <tr>\n",
              "      <th>1</th>\n",
              "      <td>Dick</td>\n",
              "      <td>0.713152</td>\n",
              "      <td>Experience</td>\n",
              "    </tr>\n",
              "    <tr>\n",
              "      <th>2</th>\n",
              "      <td>Tom</td>\n",
              "      <td>0.219955</td>\n",
              "      <td>Experience</td>\n",
              "    </tr>\n",
              "  </tbody>\n",
              "</table>\n",
              "</div>"
            ],
            "text/plain": [
              "  option     value    criteria\n",
              "0  Harry  0.063736         Age\n",
              "1   Dick  0.668864         Age\n",
              "2    Tom  0.267399         Age\n",
              "0  Harry  0.069058    Charisma\n",
              "1   Dick  0.250593    Charisma\n",
              "2    Tom  0.680349    Charisma\n",
              "0  Harry  0.723506   Education\n",
              "1   Dick  0.083308   Education\n",
              "2    Tom  0.193186   Education\n",
              "0  Harry  0.066893  Experience\n",
              "1   Dick  0.713152  Experience\n",
              "2    Tom  0.219955  Experience"
            ]
          },
          "execution_count": 258,
          "metadata": {},
          "output_type": "execute_result"
        }
      ],
      "source": [
        "# Alternatives vs Criteria\n",
        "aa = pd.DataFrame([\n",
        "    (\"Tom\", \"Dick\", 1, 4, \"Experience\"),\n",
        "    (\"Tom\", \"Harry\", 4, 1, \"Experience\"),\n",
        "    (\"Dick\", \"Harry\", 9, 1, \"Experience\"),\n",
        "    (\"Tom\", \"Dick\", 3, 1, \"Education\"),\n",
        "    (\"Tom\", \"Harry\", 1, 5, \"Education\"),\n",
        "    (\"Dick\", \"Harry\", 1, 7, \"Education\"),\n",
        "    (\"Tom\", \"Dick\", 3, 1, \"Charisma\"),\n",
        "    (\"Tom\", \"Harry\", 9, 1, \"Charisma\"),\n",
        "    (\"Dick\", \"Harry\", 4, 1, \"Charisma\"),\n",
        "    (\"Tom\", \"Dick\", 1, 3, \"Age\"),\n",
        "    (\"Tom\", \"Harry\", 5, 1, \"Age\"),\n",
        "    (\"Dick\", \"Harry\", 9, 1, \"Age\"),\n",
        "], columns=[\"option_a\", \"option_b\", \"weight_a\", \"weight_b\", \"criteria\"])\n",
        "\n",
        "ahp(aa)"
      ]
    },
    {
      "cell_type": "code",
      "execution_count": 255,
      "metadata": {},
      "outputs": [],
      "source": [
        "# Criteria vs Goal"
      ]
    },
    {
      "cell_type": "code",
      "execution_count": 259,
      "metadata": {},
      "outputs": [
        {
          "data": {
            "text/html": [
              "<div>\n",
              "<style scoped>\n",
              "    .dataframe tbody tr th:only-of-type {\n",
              "        vertical-align: middle;\n",
              "    }\n",
              "\n",
              "    .dataframe tbody tr th {\n",
              "        vertical-align: top;\n",
              "    }\n",
              "\n",
              "    .dataframe thead th {\n",
              "        text-align: right;\n",
              "    }\n",
              "</style>\n",
              "<table border=\"1\" class=\"dataframe\">\n",
              "  <thead>\n",
              "    <tr style=\"text-align: right;\">\n",
              "      <th></th>\n",
              "      <th>option</th>\n",
              "      <th>value</th>\n",
              "    </tr>\n",
              "  </thead>\n",
              "  <tbody>\n",
              "    <tr>\n",
              "      <th>0</th>\n",
              "      <td>Experience</td>\n",
              "      <td>0.539644</td>\n",
              "    </tr>\n",
              "    <tr>\n",
              "      <th>1</th>\n",
              "      <td>Education</td>\n",
              "      <td>0.131464</td>\n",
              "    </tr>\n",
              "    <tr>\n",
              "      <th>2</th>\n",
              "      <td>Charisma</td>\n",
              "      <td>0.271548</td>\n",
              "    </tr>\n",
              "    <tr>\n",
              "      <th>3</th>\n",
              "      <td>Age</td>\n",
              "      <td>0.057344</td>\n",
              "    </tr>\n",
              "  </tbody>\n",
              "</table>\n",
              "</div>"
            ],
            "text/plain": [
              "       option     value\n",
              "0  Experience  0.539644\n",
              "1   Education  0.131464\n",
              "2    Charisma  0.271548\n",
              "3         Age  0.057344"
            ]
          },
          "execution_count": 259,
          "metadata": {},
          "output_type": "execute_result"
        }
      ],
      "source": [
        "bb = pd.DataFrame([\n",
        "    (\"Experience\", \"Education\", 4, 1),\n",
        "    (\"Experience\", \"Charisma\", 3, 1),\n",
        "    (\"Experience\", \"Age\", 7, 1),\n",
        "    (\"Education\", \"Charisma\", 1, 3),\n",
        "    (\"Education\", \"Age\", 3, 1),\n",
        "    (\"Age\", \"Charisma\", 1, 5)\n",
        "], columns=[\"option_a\", \"option_b\", \"weight_a\", \"weight_b\"])\n",
        "\n",
        "ahp(bb)"
      ]
    },
    {
      "cell_type": "code",
      "execution_count": 261,
      "metadata": {},
      "outputs": [
        {
          "data": {
            "text/html": [
              "<div>\n",
              "<style scoped>\n",
              "    .dataframe tbody tr th:only-of-type {\n",
              "        vertical-align: middle;\n",
              "    }\n",
              "\n",
              "    .dataframe tbody tr th {\n",
              "        vertical-align: top;\n",
              "    }\n",
              "\n",
              "    .dataframe thead th {\n",
              "        text-align: right;\n",
              "    }\n",
              "</style>\n",
              "<table border=\"1\" class=\"dataframe\">\n",
              "  <thead>\n",
              "    <tr style=\"text-align: right;\">\n",
              "      <th></th>\n",
              "      <th>value</th>\n",
              "    </tr>\n",
              "    <tr>\n",
              "      <th>option_x</th>\n",
              "      <th></th>\n",
              "    </tr>\n",
              "  </thead>\n",
              "  <tbody>\n",
              "    <tr>\n",
              "      <th>Dick</th>\n",
              "      <td>0.502203</td>\n",
              "    </tr>\n",
              "    <tr>\n",
              "      <th>Harry</th>\n",
              "      <td>0.153621</td>\n",
              "    </tr>\n",
              "    <tr>\n",
              "      <th>Tom</th>\n",
              "      <td>0.344175</td>\n",
              "    </tr>\n",
              "  </tbody>\n",
              "</table>\n",
              "</div>"
            ],
            "text/plain": [
              "             value\n",
              "option_x          \n",
              "Dick      0.502203\n",
              "Harry     0.153621\n",
              "Tom       0.344175"
            ]
          },
          "execution_count": 261,
          "metadata": {},
          "output_type": "execute_result"
        }
      ],
      "source": [
        "cc = pd.merge(ahp(aa), ahp(bb), left_on=\"criteria\", right_on=\"option\")\n",
        "cc[\"value\"] = cc[\"value_x\"] * cc[\"value_y\"]\n",
        "cc.groupby(\"option_x\").agg({\"value\": \"sum\"})"
      ]
    },
    {
      "cell_type": "code",
      "execution_count": 10,
      "metadata": {},
      "outputs": [],
      "source": [
        "def ahp(df, alternative=\"alternative\", voter=\"voter\") -> pd.DataFrame:\n",
        "\n",
        "    dd = df.groupby([\"option_source\", \"option_target\"]).agg(\n",
        "        {voter: \"count\"}).reset_index()\n",
        "\n",
        "    a = dd.pivot(index=\"option_target\",\n",
        "                 columns=\"option_source\", values=voter)\n",
        "    b = np.divide(a, a.T)\n",
        "    np.fill_diagonal(b.values, 1)\n",
        "    c = b / b.sum()\n",
        "    weight = [1/c.shape[0] for i in range(c.shape[0])]\n",
        "\n",
        "    tmp = pd.DataFrame(np.sum(np.multiply(c, weight), axis=1)).reset_index().rename(\n",
        "        columns={\"option_target\": alternative, 0: \"value\"})\n",
        "\n",
        "    return tmp"
      ]
    }
  ],
  "metadata": {
    "kernelspec": {
      "display_name": "Python 3",
      "language": "python",
      "name": "python3"
    },
    "language_info": {
      "codemirror_mode": {
        "name": "ipython",
        "version": 3
      },
      "file_extension": ".py",
      "mimetype": "text/x-python",
      "name": "python",
      "nbconvert_exporter": "python",
      "pygments_lexer": "ipython3",
      "version": "3.7.4"
    }
  },
  "nbformat": 4,
  "nbformat_minor": 2
}