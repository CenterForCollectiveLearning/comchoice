{
 "cells": [
  {
   "cell_type": "code",
   "execution_count": 1,
   "metadata": {},
   "outputs": [],
   "source": [
    "import os\n",
    "os.chdir(\"../\")"
   ]
  },
  {
   "cell_type": "code",
   "execution_count": 2,
   "metadata": {},
   "outputs": [],
   "source": [
    "from comchoice.voting import Voting\n",
    "import pandas as pd\n",
    "import numpy as np\n",
    "from itertools import combinations"
   ]
  },
  {
   "cell_type": "markdown",
   "metadata": {},
   "source": [
    "There are 10 voters, 4 candidates (Alice, Bob, Carol and Dan) and 2 seats. The votes are:\n",
    "\n",
    "4 voters vote for both Alice and Bob (each of these two candidates with get half a vote from each of these four voters).\n",
    "3 voters vote only for Carol (this candidate gets a whole vote from each of these three voters).\n",
    "3 voters vote only for Dan (this candidate gets a whole vote from each of these three voters)."
   ]
  },
  {
   "cell_type": "code",
   "execution_count": 13,
   "metadata": {},
   "outputs": [
    {
     "data": {
      "text/html": [
       "<div>\n",
       "<style scoped>\n",
       "    .dataframe tbody tr th:only-of-type {\n",
       "        vertical-align: middle;\n",
       "    }\n",
       "\n",
       "    .dataframe tbody tr th {\n",
       "        vertical-align: top;\n",
       "    }\n",
       "\n",
       "    .dataframe thead th {\n",
       "        text-align: right;\n",
       "    }\n",
       "</style>\n",
       "<table border=\"1\" class=\"dataframe\">\n",
       "  <thead>\n",
       "    <tr style=\"text-align: right;\">\n",
       "      <th></th>\n",
       "      <th>voters</th>\n",
       "      <th>candidates</th>\n",
       "      <th>value</th>\n",
       "    </tr>\n",
       "  </thead>\n",
       "  <tbody>\n",
       "    <tr>\n",
       "      <th>0</th>\n",
       "      <td>4</td>\n",
       "      <td>Alice</td>\n",
       "      <td>0.5</td>\n",
       "    </tr>\n",
       "    <tr>\n",
       "      <th>0</th>\n",
       "      <td>4</td>\n",
       "      <td>Bob</td>\n",
       "      <td>0.5</td>\n",
       "    </tr>\n",
       "    <tr>\n",
       "      <th>1</th>\n",
       "      <td>3</td>\n",
       "      <td>Carol</td>\n",
       "      <td>1.0</td>\n",
       "    </tr>\n",
       "    <tr>\n",
       "      <th>2</th>\n",
       "      <td>3</td>\n",
       "      <td>Dan</td>\n",
       "      <td>1.0</td>\n",
       "    </tr>\n",
       "  </tbody>\n",
       "</table>\n",
       "</div>"
      ],
      "text/plain": [
       "   voters candidates  value\n",
       "0       4      Alice    0.5\n",
       "0       4        Bob    0.5\n",
       "1       3      Carol    1.0\n",
       "2       3        Dan    1.0"
      ]
     },
     "execution_count": 13,
     "metadata": {},
     "output_type": "execute_result"
    }
   ],
   "source": [
    "\n",
    "candidates_separator = \",\"\n",
    "voters = \"voters\"\n",
    "\n",
    "df[\"candidates\"] = df[\"candidates\"].str.split(candidates_separator)\n",
    "df[\"value\"] = df[\"candidates\"].apply(lambda x: 1 / len(x))\n",
    "df = df.explode(\"candidates\")\n",
    "\n",
    "# if voters in list(df):\n",
    "#     df[\"value\"] *= df[voters]\n",
    "    \n",
    "df"
   ]
  },
  {
   "cell_type": "markdown",
   "metadata": {},
   "source": [
    "Assume 2 seats to be filled, and the are four candidates: Andrea (A), Brad (B), Carter (C), and Delilah (D), and 30 voters. The ballots are:\n",
    "\n",
    "5 voters voted for A and B\n",
    "\n",
    "17 voters voted for A and C\n",
    "\n",
    "8 voters voted for D\n",
    "\n",
    "There are 6 possible results: AB, AC, AD, BC, BD, and CD."
   ]
  },
  {
   "cell_type": "code",
   "execution_count": 74,
   "metadata": {},
   "outputs": [
    {
     "data": {
      "text/html": [
       "<div>\n",
       "<style scoped>\n",
       "    .dataframe tbody tr th:only-of-type {\n",
       "        vertical-align: middle;\n",
       "    }\n",
       "\n",
       "    .dataframe tbody tr th {\n",
       "        vertical-align: top;\n",
       "    }\n",
       "\n",
       "    .dataframe thead th {\n",
       "        text-align: right;\n",
       "    }\n",
       "</style>\n",
       "<table border=\"1\" class=\"dataframe\">\n",
       "  <thead>\n",
       "    <tr style=\"text-align: right;\">\n",
       "      <th></th>\n",
       "      <th>voters</th>\n",
       "      <th>candidates</th>\n",
       "    </tr>\n",
       "  </thead>\n",
       "  <tbody>\n",
       "    <tr>\n",
       "      <th>0</th>\n",
       "      <td>5</td>\n",
       "      <td>A,B</td>\n",
       "    </tr>\n",
       "    <tr>\n",
       "      <th>1</th>\n",
       "      <td>17</td>\n",
       "      <td>A,C</td>\n",
       "    </tr>\n",
       "    <tr>\n",
       "      <th>2</th>\n",
       "      <td>8</td>\n",
       "      <td>D</td>\n",
       "    </tr>\n",
       "  </tbody>\n",
       "</table>\n",
       "</div>"
      ],
      "text/plain": [
       "   voters candidates\n",
       "0       5        A,B\n",
       "1      17        A,C\n",
       "2       8          D"
      ]
     },
     "execution_count": 74,
     "metadata": {},
     "output_type": "execute_result"
    }
   ],
   "source": [
    "data = [\n",
    "    {\"voters\": 5, \"candidates\": \"A,B\"},\n",
    "    {\"voters\": 17, \"candidates\": \"A,C\"},\n",
    "    {\"voters\": 8, \"candidates\": \"D\"}\n",
    "]\n",
    "\n",
    "df = pd.DataFrame(data)\n",
    "df"
   ]
  },
  {
   "cell_type": "code",
   "execution_count": 81,
   "metadata": {},
   "outputs": [
    {
     "data": {
      "text/html": [
       "<div>\n",
       "<style scoped>\n",
       "    .dataframe tbody tr th:only-of-type {\n",
       "        vertical-align: middle;\n",
       "    }\n",
       "\n",
       "    .dataframe tbody tr th {\n",
       "        vertical-align: top;\n",
       "    }\n",
       "\n",
       "    .dataframe thead th {\n",
       "        text-align: right;\n",
       "    }\n",
       "</style>\n",
       "<table border=\"1\" class=\"dataframe\">\n",
       "  <thead>\n",
       "    <tr style=\"text-align: right;\">\n",
       "      <th></th>\n",
       "      <th>value</th>\n",
       "    </tr>\n",
       "    <tr>\n",
       "      <th>seats</th>\n",
       "      <th></th>\n",
       "    </tr>\n",
       "  </thead>\n",
       "  <tbody>\n",
       "    <tr>\n",
       "      <th>(A, B)</th>\n",
       "      <td>24.5</td>\n",
       "    </tr>\n",
       "    <tr>\n",
       "      <th>(A, C)</th>\n",
       "      <td>30.5</td>\n",
       "    </tr>\n",
       "    <tr>\n",
       "      <th>(A, D)</th>\n",
       "      <td>30.0</td>\n",
       "    </tr>\n",
       "    <tr>\n",
       "      <th>(B, C)</th>\n",
       "      <td>22.0</td>\n",
       "    </tr>\n",
       "    <tr>\n",
       "      <th>(B, D)</th>\n",
       "      <td>13.0</td>\n",
       "    </tr>\n",
       "    <tr>\n",
       "      <th>(C, D)</th>\n",
       "      <td>25.0</td>\n",
       "    </tr>\n",
       "  </tbody>\n",
       "</table>\n",
       "</div>"
      ],
      "text/plain": [
       "        value\n",
       "seats        \n",
       "(A, B)   24.5\n",
       "(A, C)   30.5\n",
       "(A, D)   30.0\n",
       "(B, C)   22.0\n",
       "(B, D)   13.0\n",
       "(C, D)   25.0"
      ]
     },
     "execution_count": 81,
     "metadata": {},
     "output_type": "execute_result"
    }
   ],
   "source": [
    "approval_voting(df, method = \"proportional\")"
   ]
  },
  {
   "cell_type": "code",
   "execution_count": 121,
   "metadata": {},
   "outputs": [
    {
     "data": {
      "text/html": [
       "<div>\n",
       "<style scoped>\n",
       "    .dataframe tbody tr th:only-of-type {\n",
       "        vertical-align: middle;\n",
       "    }\n",
       "\n",
       "    .dataframe tbody tr th {\n",
       "        vertical-align: top;\n",
       "    }\n",
       "\n",
       "    .dataframe thead th {\n",
       "        text-align: right;\n",
       "    }\n",
       "</style>\n",
       "<table border=\"1\" class=\"dataframe\">\n",
       "  <thead>\n",
       "    <tr style=\"text-align: right;\">\n",
       "      <th></th>\n",
       "      <th>candidates</th>\n",
       "      <th>value</th>\n",
       "    </tr>\n",
       "  </thead>\n",
       "  <tbody>\n",
       "    <tr>\n",
       "      <th>0</th>\n",
       "      <td>(Alice, Bob)</td>\n",
       "      <td>4.0</td>\n",
       "    </tr>\n",
       "    <tr>\n",
       "      <th>1</th>\n",
       "      <td>(Alice, Carol)</td>\n",
       "      <td>5.0</td>\n",
       "    </tr>\n",
       "    <tr>\n",
       "      <th>2</th>\n",
       "      <td>(Alice, Dan)</td>\n",
       "      <td>5.0</td>\n",
       "    </tr>\n",
       "    <tr>\n",
       "      <th>3</th>\n",
       "      <td>(Bob, Carol)</td>\n",
       "      <td>5.0</td>\n",
       "    </tr>\n",
       "    <tr>\n",
       "      <th>4</th>\n",
       "      <td>(Bob, Dan)</td>\n",
       "      <td>5.0</td>\n",
       "    </tr>\n",
       "    <tr>\n",
       "      <th>5</th>\n",
       "      <td>(Carol, Dan)</td>\n",
       "      <td>6.0</td>\n",
       "    </tr>\n",
       "  </tbody>\n",
       "</table>\n",
       "</div>"
      ],
      "text/plain": [
       "       candidates  value\n",
       "0    (Alice, Bob)    4.0\n",
       "1  (Alice, Carol)    5.0\n",
       "2    (Alice, Dan)    5.0\n",
       "3    (Bob, Carol)    5.0\n",
       "4      (Bob, Dan)    5.0\n",
       "5    (Carol, Dan)    6.0"
      ]
     },
     "execution_count": 121,
     "metadata": {},
     "output_type": "execute_result"
    }
   ],
   "source": [
    "data = [\n",
    "    {\"voters\": 4, \"candidates\": \"Alice,Bob\"},\n",
    "    {\"voters\": 3, \"candidates\": \"Carol\"},\n",
    "    {\"voters\": 3, \"candidates\": \"Dan\"}\n",
    "]\n",
    "df = pd.DataFrame(data)\n",
    "\n",
    "approval_voting(df, method = \"satisfaction\")"
   ]
  },
  {
   "cell_type": "code",
   "execution_count": 118,
   "metadata": {},
   "outputs": [
    {
     "data": {
      "text/html": [
       "<div>\n",
       "<style scoped>\n",
       "    .dataframe tbody tr th:only-of-type {\n",
       "        vertical-align: middle;\n",
       "    }\n",
       "\n",
       "    .dataframe tbody tr th {\n",
       "        vertical-align: top;\n",
       "    }\n",
       "\n",
       "    .dataframe thead th {\n",
       "        text-align: right;\n",
       "    }\n",
       "</style>\n",
       "<table border=\"1\" class=\"dataframe\">\n",
       "  <thead>\n",
       "    <tr style=\"text-align: right;\">\n",
       "      <th></th>\n",
       "      <th>seats</th>\n",
       "      <th>value</th>\n",
       "    </tr>\n",
       "  </thead>\n",
       "  <tbody>\n",
       "    <tr>\n",
       "      <th>0</th>\n",
       "      <td>(Alice, Bob)</td>\n",
       "      <td>10</td>\n",
       "    </tr>\n",
       "    <tr>\n",
       "      <th>1</th>\n",
       "      <td>(Alice, Carol)</td>\n",
       "      <td>10</td>\n",
       "    </tr>\n",
       "    <tr>\n",
       "      <th>2</th>\n",
       "      <td>(Alice, Dan)</td>\n",
       "      <td>10</td>\n",
       "    </tr>\n",
       "    <tr>\n",
       "      <th>3</th>\n",
       "      <td>(Bob, Carol)</td>\n",
       "      <td>10</td>\n",
       "    </tr>\n",
       "    <tr>\n",
       "      <th>4</th>\n",
       "      <td>(Bob, Dan)</td>\n",
       "      <td>10</td>\n",
       "    </tr>\n",
       "    <tr>\n",
       "      <th>5</th>\n",
       "      <td>(Carol, Dan)</td>\n",
       "      <td>10</td>\n",
       "    </tr>\n",
       "  </tbody>\n",
       "</table>\n",
       "</div>"
      ],
      "text/plain": [
       "            seats  value\n",
       "0    (Alice, Bob)     10\n",
       "1  (Alice, Carol)     10\n",
       "2    (Alice, Dan)     10\n",
       "3    (Bob, Carol)     10\n",
       "4      (Bob, Dan)     10\n",
       "5    (Carol, Dan)     10"
      ]
     },
     "execution_count": 118,
     "metadata": {},
     "output_type": "execute_result"
    }
   ],
   "source": [
    "approval_voting(df, method = \"classic\")"
   ]
  },
  {
   "cell_type": "code",
   "execution_count": 120,
   "metadata": {},
   "outputs": [],
   "source": [
    "def sav(self):\n",
    "    return self.approval_voting(method=\"satisfaction\")\n",
    "\n",
    "def pav(self):\n",
    "    return self.approval_voting(method=\"proportional\")\n",
    "\n",
    "def approval_voting(self, method=\"proportional\"):\n",
    "    def harmonic(n):\n",
    "        if n == 0:\n",
    "            return 0\n",
    "        return 1 + sum([1 / i for i in range(2, n + 1)])\n",
    "    \n",
    "    df = self.df.copy()\n",
    "    candidates_separator = \",\" #TODO\n",
    "    voters = self.voters\n",
    "    candidates = self.candidates\n",
    "\n",
    "    df[candidates] = df[candidates].str.split(candidates_separator)\n",
    "\n",
    "    output = []\n",
    "    for seats in combinations(df[candidates].explode().unique(), 2):\n",
    "        for i, tmp in df.iterrows():\n",
    "            n_items = len(set(tmp[candidates]) & set(seats))\n",
    "\n",
    "            if method == \"classic\":\n",
    "                coef = 1 # TODO\n",
    "            elif method == \"proportional\": \n",
    "                coef = harmonic(n_items)\n",
    "\n",
    "            elif method == \"satisfaction\":\n",
    "                coef = n_items / len(set(tmp[candidates])) if n_items > 0 else 0\n",
    "                if coef > 1:\n",
    "                    coef = 1\n",
    "\n",
    "            output.append({\n",
    "                candidates: seats,\n",
    "                \"value\": coef * tmp[voters]\n",
    "            })\n",
    "            \n",
    "    return pd.DataFrame(output).groupby(candidates).agg({\"value\": \"sum\"}).reset_index()"
   ]
  },
  {
   "cell_type": "code",
   "execution_count": 26,
   "metadata": {},
   "outputs": [
    {
     "data": {
      "text/plain": [
       "1.5"
      ]
     },
     "execution_count": 26,
     "metadata": {},
     "output_type": "execute_result"
    }
   ],
   "source": [
    "harmonic(2)"
   ]
  },
  {
   "cell_type": "code",
   "execution_count": 61,
   "metadata": {},
   "outputs": [
    {
     "name": "stdout",
     "output_type": "stream",
     "text": [
      "('A', 'B')\n",
      "('A', 'C')\n",
      "('A', 'D')\n",
      "('B', 'C')\n",
      "('B', 'D')\n",
      "('C', 'D')\n"
     ]
    }
   ],
   "source": []
  },
  {
   "cell_type": "code",
   "execution_count": null,
   "metadata": {},
   "outputs": [],
   "source": []
  },
  {
   "cell_type": "code",
   "execution_count": 168,
   "metadata": {},
   "outputs": [
    {
     "name": "stdout",
     "output_type": "stream",
     "text": [
      "100 10.0\n"
     ]
    },
    {
     "data": {
      "text/html": [
       "<div>\n",
       "<style scoped>\n",
       "    .dataframe tbody tr th:only-of-type {\n",
       "        vertical-align: middle;\n",
       "    }\n",
       "\n",
       "    .dataframe tbody tr th {\n",
       "        vertical-align: top;\n",
       "    }\n",
       "\n",
       "    .dataframe thead th {\n",
       "        text-align: right;\n",
       "    }\n",
       "</style>\n",
       "<table border=\"1\" class=\"dataframe\">\n",
       "  <thead>\n",
       "    <tr style=\"text-align: right;\">\n",
       "      <th></th>\n",
       "      <th>candidates</th>\n",
       "      <th>voters</th>\n",
       "    </tr>\n",
       "  </thead>\n",
       "  <tbody>\n",
       "    <tr>\n",
       "      <th>0</th>\n",
       "      <td>D</td>\n",
       "      <td>3.030303</td>\n",
       "    </tr>\n",
       "    <tr>\n",
       "      <th>1</th>\n",
       "      <td>A</td>\n",
       "      <td>3.333333</td>\n",
       "    </tr>\n",
       "    <tr>\n",
       "      <th>2</th>\n",
       "      <td>C</td>\n",
       "      <td>3.636364</td>\n",
       "    </tr>\n",
       "    <tr>\n",
       "      <th>3</th>\n",
       "      <td>B</td>\n",
       "      <td>4.347826</td>\n",
       "    </tr>\n",
       "    <tr>\n",
       "      <th>4</th>\n",
       "      <td>E</td>\n",
       "      <td>4.347826</td>\n",
       "    </tr>\n",
       "    <tr>\n",
       "      <th>5</th>\n",
       "      <td>F</td>\n",
       "      <td>4.651163</td>\n",
       "    </tr>\n",
       "    <tr>\n",
       "      <th>6</th>\n",
       "      <td>J</td>\n",
       "      <td>5.000000</td>\n",
       "    </tr>\n",
       "    <tr>\n",
       "      <th>7</th>\n",
       "      <td>G</td>\n",
       "      <td>5.882353</td>\n",
       "    </tr>\n",
       "    <tr>\n",
       "      <th>8</th>\n",
       "      <td>H</td>\n",
       "      <td>10.000000</td>\n",
       "    </tr>\n",
       "  </tbody>\n",
       "</table>\n",
       "</div>"
      ],
      "text/plain": [
       "  candidates     voters\n",
       "0          D   3.030303\n",
       "1          A   3.333333\n",
       "2          C   3.636364\n",
       "3          B   4.347826\n",
       "4          E   4.347826\n",
       "5          F   4.651163\n",
       "6          J   5.000000\n",
       "7          G   5.882353\n",
       "8          H  10.000000"
      ]
     },
     "execution_count": 168,
     "metadata": {},
     "output_type": "execute_result"
    }
   ],
   "source": [
    "data = [\n",
    "    {\"voters\": 20, \"candidates\": \"A,B,C,D,E,F\"},\n",
    "    {\"voters\": 26, \"candidates\": \"A,B,C,D,E,J\"},\n",
    "    {\"voters\": 11, \"candidates\": \"D,G\"},\n",
    "    {\"voters\": 9, \"candidates\": \"C,D,F,G\"},\n",
    "    {\"voters\": 20, \"candidates\": \"H\"},\n",
    "    {\"voters\": 14, \"candidates\": \"A,F,G,J\"}\n",
    "]\n",
    "\n",
    "\n",
    "candidates = \"candidates\"\n",
    "voters = \"voters\"\n",
    "\n",
    "df = pd.DataFrame(data)\n",
    "df[\"_id\"] = range(df.shape[0])\n",
    "units = np.zeros(df.shape[0])\n",
    "\n",
    "n_voters = df[voters].sum()\n",
    "\n",
    "df[candidates] = df[candidates].str.split(candidates_separator)\n",
    "tmp = df.copy()\n",
    "df = df.explode(candidates)\n",
    "df\n",
    "\n",
    "\n",
    "\n",
    "budget = 1000\n",
    "n_projects = 5\n",
    "cost = 200\n",
    "budget_unit = budget / n_voters\n",
    "print(n_voters, budget_unit)\n",
    "# cost / \n",
    "dd = cost / df.groupby(candidates).agg({voters: \"sum\"}).sort_values(voters, ascending=False)\n",
    "dd = dd.reset_index()\n",
    "dd"
   ]
  },
  {
   "cell_type": "code",
   "execution_count": 173,
   "metadata": {},
   "outputs": [
    {
     "data": {
      "text/plain": [
       "(array([10.        , 10.        ,  8.91265597,  6.66666667, 10.        ,\n",
       "         3.33333333]), ['D', 'A', 'C', 'G', 'H'])"
      ]
     },
     "execution_count": 173,
     "metadata": {},
     "output_type": "execute_result"
    }
   ],
   "source": [
    "units = np.zeros(6)\n",
    "\n",
    "output = []\n",
    "\n",
    "for idx, df_list in dd.iterrows():\n",
    "    option = df_list[\"candidates\"]\n",
    "    _cost = df_list[\"voters\"]\n",
    "\n",
    "    a = False\n",
    "    for i, df_tmp in tmp.iterrows():\n",
    "        if option in df_tmp[candidates]:\n",
    "            if units[i] + _cost <= budget_unit:\n",
    "                units[i] += _cost\n",
    "                a = True\n",
    "            else:\n",
    "                break\n",
    "\n",
    "    if a:\n",
    "        output.append(option)\n",
    "\n",
    "units, output"
   ]
  },
  {
   "cell_type": "code",
   "execution_count": 146,
   "metadata": {},
   "outputs": [
    {
     "data": {
      "text/plain": [
       "array([0., 0., 0., 0., 0., 0.])"
      ]
     },
     "execution_count": 146,
     "metadata": {},
     "output_type": "execute_result"
    }
   ],
   "source": [
    "units"
   ]
  },
  {
   "cell_type": "code",
   "execution_count": 174,
   "metadata": {},
   "outputs": [],
   "source": [
    "# Phragmén's Sequential Rule"
   ]
  },
  {
   "cell_type": "code",
   "execution_count": 386,
   "metadata": {},
   "outputs": [
    {
     "data": {
      "text/html": [
       "<div>\n",
       "<style scoped>\n",
       "    .dataframe tbody tr th:only-of-type {\n",
       "        vertical-align: middle;\n",
       "    }\n",
       "\n",
       "    .dataframe tbody tr th {\n",
       "        vertical-align: top;\n",
       "    }\n",
       "\n",
       "    .dataframe thead th {\n",
       "        text-align: right;\n",
       "    }\n",
       "</style>\n",
       "<table border=\"1\" class=\"dataframe\">\n",
       "  <thead>\n",
       "    <tr style=\"text-align: right;\">\n",
       "      <th></th>\n",
       "      <th>voters</th>\n",
       "      <th>candidates</th>\n",
       "    </tr>\n",
       "  </thead>\n",
       "  <tbody>\n",
       "    <tr>\n",
       "      <th>0</th>\n",
       "      <td>5</td>\n",
       "      <td>c1,c2,c3</td>\n",
       "    </tr>\n",
       "    <tr>\n",
       "      <th>1</th>\n",
       "      <td>5</td>\n",
       "      <td>c1,c2,c3,c4,c5</td>\n",
       "    </tr>\n",
       "    <tr>\n",
       "      <th>2</th>\n",
       "      <td>2</td>\n",
       "      <td>c1,c2,c4,c5</td>\n",
       "    </tr>\n",
       "    <tr>\n",
       "      <th>3</th>\n",
       "      <td>3</td>\n",
       "      <td>c4,c5</td>\n",
       "    </tr>\n",
       "  </tbody>\n",
       "</table>\n",
       "</div>"
      ],
      "text/plain": [
       "   voters      candidates\n",
       "0       5        c1,c2,c3\n",
       "1       5  c1,c2,c3,c4,c5\n",
       "2       2     c1,c2,c4,c5\n",
       "3       3           c4,c5"
      ]
     },
     "execution_count": 386,
     "metadata": {},
     "output_type": "execute_result"
    }
   ],
   "source": [
    "data = [\n",
    "    {\"voters\": 5, \"candidates\": \"c1,c2,c3\"},\n",
    "    {\"voters\": 5, \"candidates\": \"c1,c2,c3,c4,c5\"},\n",
    "    {\"voters\": 2, \"candidates\": \"c1,c2,c4,c5\"},\n",
    "    {\"voters\": 3, \"candidates\": \"c4,c5\"},\n",
    "]\n",
    "\n",
    "df1 = pd.DataFrame(data)\n",
    "df1"
   ]
  },
  {
   "cell_type": "code",
   "execution_count": 387,
   "metadata": {},
   "outputs": [
    {
     "data": {
      "text/plain": [
       "[{'candidates': 'c1', 't*': 0.08333333333333333},\n",
       " {'candidates': 'c4', 't*': 0.15833333333333333},\n",
       " {'candidates': 'c2', 't*': 0.21041666666666664},\n",
       " {'candidates': 'c5', 't*': 0.2947916666666667}]"
      ]
     },
     "execution_count": 387,
     "metadata": {},
     "output_type": "execute_result"
    }
   ],
   "source": [
    "phragmen(df1, n_seats=4)"
   ]
  },
  {
   "cell_type": "code",
   "execution_count": 332,
   "metadata": {},
   "outputs": [],
   "source": []
  },
  {
   "cell_type": "code",
   "execution_count": 333,
   "metadata": {},
   "outputs": [],
   "source": [
    "\n"
   ]
  },
  {
   "cell_type": "code",
   "execution_count": null,
   "metadata": {},
   "outputs": [],
   "source": []
  },
  {
   "cell_type": "code",
   "execution_count": 366,
   "metadata": {},
   "outputs": [
    {
     "data": {
      "text/html": [
       "<div>\n",
       "<style scoped>\n",
       "    .dataframe tbody tr th:only-of-type {\n",
       "        vertical-align: middle;\n",
       "    }\n",
       "\n",
       "    .dataframe tbody tr th {\n",
       "        vertical-align: top;\n",
       "    }\n",
       "\n",
       "    .dataframe thead th {\n",
       "        text-align: right;\n",
       "    }\n",
       "</style>\n",
       "<table border=\"1\" class=\"dataframe\">\n",
       "  <thead>\n",
       "    <tr style=\"text-align: right;\">\n",
       "      <th></th>\n",
       "      <th>voters</th>\n",
       "      <th>candidates</th>\n",
       "    </tr>\n",
       "  </thead>\n",
       "  <tbody>\n",
       "    <tr>\n",
       "      <th>0</th>\n",
       "      <td>1034</td>\n",
       "      <td>A,B,C</td>\n",
       "    </tr>\n",
       "    <tr>\n",
       "      <th>1</th>\n",
       "      <td>519</td>\n",
       "      <td>P,Q,R</td>\n",
       "    </tr>\n",
       "    <tr>\n",
       "      <th>2</th>\n",
       "      <td>90</td>\n",
       "      <td>A,B,Q</td>\n",
       "    </tr>\n",
       "    <tr>\n",
       "      <th>3</th>\n",
       "      <td>47</td>\n",
       "      <td>A,P,Q</td>\n",
       "    </tr>\n",
       "  </tbody>\n",
       "</table>\n",
       "</div>"
      ],
      "text/plain": [
       "   voters candidates\n",
       "0    1034      A,B,C\n",
       "1     519      P,Q,R\n",
       "2      90      A,B,Q\n",
       "3      47      A,P,Q"
      ]
     },
     "execution_count": 366,
     "metadata": {},
     "output_type": "execute_result"
    }
   ],
   "source": [
    "data = [\n",
    "    {\"voters\": 1034, \"candidates\": \"A,B,C\"},\n",
    "    {\"voters\": 519, \"candidates\": \"P,Q,R\"},\n",
    "    {\"voters\": 90, \"candidates\": \"A,B,Q\"},\n",
    "    {\"voters\": 47, \"candidates\": \"A,P,Q\"},\n",
    "]\n",
    "\n",
    "df = pd.DataFrame(data)\n",
    "df"
   ]
  },
  {
   "cell_type": "code",
   "execution_count": 495,
   "metadata": {},
   "outputs": [],
   "source": [
    "def phragmen(df, n_seats=1):\n",
    "    # Phragmén’s sequential rule\n",
    "    df_tmp = df.copy()\n",
    "    df_tmp[\"_id\"] = range(df_tmp.shape[0])\n",
    "    voters = \"voters\"\n",
    "    candidates = \"candidates\"\n",
    "    \n",
    "    n_voters = df_tmp[voters].sum()\n",
    "    n_rows = df_tmp.shape[0]\n",
    "    W = []\n",
    "    \n",
    "    candidates_separator = \",\"\n",
    "\n",
    "    df_tmp[candidates] = df_tmp[candidates].str.split(candidates_separator)\n",
    "    df_tmp = df_tmp.copy()\n",
    "    df_tmp = df_tmp.explode(candidates)\n",
    "\n",
    "    dd = 1 / df_tmp.groupby(candidates).agg({\"voters\": \"sum\"})\n",
    "    dd = dd.reset_index()\n",
    "    dd = dd.rename(columns={\"voters\": \"t*\", candidates: \"candidate\"})\n",
    "\n",
    "    t_1 = dd.head(1).to_dict(orient=\"records\")[0]\n",
    "    W.append(t_1)\n",
    "\n",
    "    im = df_tmp.pivot(index=\"_id\", columns=\"candidates\").fillna(0)\n",
    "    columns = [i[1] for i in im.columns]\n",
    "    im.columns = columns\n",
    "    im = im.reset_index(drop=True)\n",
    "\n",
    "    while len(W) < n_seats and n_seats > 0:\n",
    "        mi = pd.DataFrame(np.zeros((n_rows, len(columns))), columns=columns)\n",
    "        for w in W:\n",
    "            option = w[\"candidate\"]\n",
    "            _t = w[\"t*\"]\n",
    "\n",
    "            for index in im.index.values:\n",
    "                if im.loc[index, option] > 0:\n",
    "                    mi.iloc[index] = _t\n",
    "        \n",
    "        output = np.multiply(im, mi).reset_index(drop=True)\n",
    "        output = np.multiply(1 + output.sum(axis=0), 1 / im.sum(axis=0))\n",
    "\n",
    "        output = output.sort_values().to_frame(\"t*\").reset_index().rename(columns={\"index\": \"candidate\"})\n",
    "\n",
    "        filters = [x[\"candidate\"] for x in W]\n",
    "        output = output[~output[\"candidate\"].isin(filters)]\n",
    "\n",
    "        t_n = output.head(1).to_dict(orient=\"records\")[0]\n",
    "        W.append(t_n)\n",
    "\n",
    "    return W"
   ]
  },
  {
   "cell_type": "code",
   "execution_count": 494,
   "metadata": {},
   "outputs": [
    {
     "data": {
      "text/plain": [
       "[{'candidate': 'A', 't*': 0.0008539709649871904},\n",
       " {'candidate': 'Q', 't*': 0.0017027347899439711},\n",
       " {'candidate': 'B', 't*': 0.0018116121965228757}]"
      ]
     },
     "execution_count": 494,
     "metadata": {},
     "output_type": "execute_result"
    }
   ],
   "source": [
    "phragmen(df, n_seats=3)"
   ]
  }
 ],
 "metadata": {
  "kernelspec": {
   "display_name": "Python 3",
   "language": "python",
   "name": "python3"
  },
  "language_info": {
   "codemirror_mode": {
    "name": "ipython",
    "version": 3
   },
   "file_extension": ".py",
   "mimetype": "text/x-python",
   "name": "python",
   "nbconvert_exporter": "python",
   "pygments_lexer": "ipython3",
   "version": "3.7.4"
  }
 },
 "nbformat": 4,
 "nbformat_minor": 2
}
