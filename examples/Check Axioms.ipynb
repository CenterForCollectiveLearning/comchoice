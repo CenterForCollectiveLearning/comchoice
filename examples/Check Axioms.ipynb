{
  "cells": [
    {
      "cell_type": "code",
      "execution_count": 1,
      "metadata": {},
      "outputs": [],
      "source": [
        "import pandas as pd\n",
        "import sys\n",
        "from comchoice.axiom import Axiom\n",
        "from comchoice import voting\n",
        "from comchoice import datasets"
      ]
    },
    {
      "cell_type": "code",
      "execution_count": 2,
      "metadata": {},
      "outputs": [
        {
          "data": {
            "text/html": [
              "<div>\n",
              "<style scoped>\n",
              "    .dataframe tbody tr th:only-of-type {\n",
              "        vertical-align: middle;\n",
              "    }\n",
              "\n",
              "    .dataframe tbody tr th {\n",
              "        vertical-align: top;\n",
              "    }\n",
              "\n",
              "    .dataframe thead th {\n",
              "        text-align: right;\n",
              "    }\n",
              "</style>\n",
              "<table border=\"1\" class=\"dataframe\">\n",
              "  <thead>\n",
              "    <tr style=\"text-align: right;\">\n",
              "      <th></th>\n",
              "      <th>voter</th>\n",
              "      <th>option_a</th>\n",
              "      <th>option_b</th>\n",
              "      <th>selected</th>\n",
              "    </tr>\n",
              "  </thead>\n",
              "  <tbody>\n",
              "    <tr>\n",
              "      <th>0</th>\n",
              "      <td>1</td>\n",
              "      <td>3</td>\n",
              "      <td>2</td>\n",
              "      <td>3</td>\n",
              "    </tr>\n",
              "    <tr>\n",
              "      <th>1</th>\n",
              "      <td>1</td>\n",
              "      <td>3</td>\n",
              "      <td>4</td>\n",
              "      <td>3</td>\n",
              "    </tr>\n",
              "    <tr>\n",
              "      <th>2</th>\n",
              "      <td>1</td>\n",
              "      <td>3</td>\n",
              "      <td>5</td>\n",
              "      <td>3</td>\n",
              "    </tr>\n",
              "    <tr>\n",
              "      <th>3</th>\n",
              "      <td>1</td>\n",
              "      <td>1</td>\n",
              "      <td>3</td>\n",
              "      <td>3</td>\n",
              "    </tr>\n",
              "    <tr>\n",
              "      <th>4</th>\n",
              "      <td>1</td>\n",
              "      <td>4</td>\n",
              "      <td>2</td>\n",
              "      <td>2</td>\n",
              "    </tr>\n",
              "  </tbody>\n",
              "</table>\n",
              "</div>"
            ],
            "text/plain": [
              "   voter  option_a  option_b  selected\n",
              "0      1         3         2         3\n",
              "1      1         3         4         3\n",
              "2      1         3         5         3\n",
              "3      1         1         3         3\n",
              "4      1         4         2         2"
            ]
          },
          "execution_count": 2,
          "metadata": {},
          "output_type": "execute_result"
        }
      ],
      "source": [
        "data = datasets.load_synthetic_pairwise(n_alternatives=5, n_voters=100, ties=False,\\\n",
        "                                         transitive=True, weight_tie=0.1)\n",
        "data.head()"
      ]
    },
    {
      "cell_type": "code",
      "execution_count": 3,
      "metadata": {},
      "outputs": [
        {
          "name": "stdout",
          "output_type": "stream",
          "text": [
            "Check whether the data is complete:  True\n"
          ]
        }
      ],
      "source": [
        "print(\"Check whether the data is complete: \", Axiom.completeness(data=data, n_alternatives=5))"
      ]
    },
    {
      "cell_type": "code",
      "execution_count": 4,
      "metadata": {},
      "outputs": [
        {
          "name": "stdout",
          "output_type": "stream",
          "text": [
            "Check whether the data is incomplete (sampling some rows):  True\n",
            "Check whether the data is complete (sampling some rows):  False\n"
          ]
        }
      ],
      "source": [
        "print(\"Check whether the data is incomplete (sampling some rows): \", Axiom.incompleteness(data=data.sample(100), n_alternatives=5))\n",
        "print(\"Check whether the data is complete (sampling some rows): \", Axiom.completeness(data=data.sample(100), n_alternatives=5))"
      ]
    },
    {
      "cell_type": "code",
      "execution_count": 5,
      "metadata": {},
      "outputs": [
        {
          "name": "stdout",
          "output_type": "stream",
          "text": [
            "Check whether the axiom of pareto holds on the data:  True\n"
          ]
        }
      ],
      "source": [
        "print(\"Check whether the axiom of pareto holds on the data: \", Axiom.pareto(data))"
      ]
    },
    {
      "cell_type": "code",
      "execution_count": 6,
      "metadata": {},
      "outputs": [
        {
          "name": "stdout",
          "output_type": "stream",
          "text": [
            "Check whether the axiom of neutrality holds on the data:  True\n"
          ]
        }
      ],
      "source": [
        "print(\"Check whether the axiom of neutrality holds on the data: \", Axiom.neutrality(data))"
      ]
    },
    {
      "cell_type": "code",
      "execution_count": 7,
      "metadata": {},
      "outputs": [
        {
          "name": "stdout",
          "output_type": "stream",
          "text": [
            "Check whether the axiom of condocert holds on the data:  False\n"
          ]
        }
      ],
      "source": [
        "print(\"Check whether the axiom of condocert holds on the data: \", Axiom.condocert(data))"
      ]
    },
    {
      "cell_type": "code",
      "execution_count": 8,
      "metadata": {},
      "outputs": [
        {
          "name": "stdout",
          "output_type": "stream",
          "text": [
            "Check whether the axiom of cancellation holds on the data:  True\n"
          ]
        }
      ],
      "source": [
        "print(\"Check whether the axiom of cancellation holds on the data: \", Axiom.cancellation(data))"
      ]
    },
    {
      "cell_type": "code",
      "execution_count": 9,
      "metadata": {},
      "outputs": [
        {
          "name": "stdout",
          "output_type": "stream",
          "text": [
            "Check whether the axiom of reinforcement holds on the data:  False\n"
          ]
        }
      ],
      "source": [
        "print(\"Check whether the axiom of reinforcement holds on the data: \", Axiom.reinforcement(data))"
      ]
    },
    {
      "cell_type": "code",
      "execution_count": 10,
      "metadata": {},
      "outputs": [
        {
          "name": "stdout",
          "output_type": "stream",
          "text": [
            "Check whether the axiom of faithfulness holds on the data:  True\n"
          ]
        }
      ],
      "source": [
        "options = [1,2,3,4,5]\n",
        "print(\"Check whether the axiom of faithfulness holds on the data: \", Axiom.faithfulness(data,options))"
      ]
    },
    {
      "cell_type": "code",
      "execution_count": null,
      "metadata": {},
      "outputs": [],
      "source": []
    }
  ],
  "metadata": {
    "kernelspec": {
      "display_name": "twoenv",
      "language": "python",
      "name": "twoenv"
    },
    "language_info": {
      "codemirror_mode": {
        "name": "ipython",
        "version": 3
      },
      "file_extension": ".py",
      "mimetype": "text/x-python",
      "name": "python",
      "nbconvert_exporter": "python",
      "pygments_lexer": "ipython3",
      "version": "3.8.5"
    },
    "orig_nbformat": 4
  },
  "nbformat": 4,
  "nbformat_minor": 2
}