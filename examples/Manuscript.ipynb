{
 "cells": [
  {
   "cell_type": "code",
   "execution_count": 11,
   "metadata": {},
   "outputs": [],
   "source": [
    "import os\n",
    "import pandas as pd\n",
    "parent_path = os.path.abspath(os.path.join(os.getcwd(), os.pardir))\n",
    "os.chdir(parent_path)\n",
    "\n",
    "from comchoice.aggregate import borda, dowdall, plurality, copeland, k_approval, majority_judgment"
   ]
  },
  {
   "cell_type": "code",
   "execution_count": 4,
   "metadata": {},
   "outputs": [
    {
     "data": {
      "text/html": [
       "<div>\n",
       "<style scoped>\n",
       "    .dataframe tbody tr th:only-of-type {\n",
       "        vertical-align: middle;\n",
       "    }\n",
       "\n",
       "    .dataframe tbody tr th {\n",
       "        vertical-align: top;\n",
       "    }\n",
       "\n",
       "    .dataframe thead th {\n",
       "        text-align: right;\n",
       "    }\n",
       "</style>\n",
       "<table border=\"1\" class=\"dataframe\">\n",
       "  <thead>\n",
       "    <tr style=\"text-align: right;\">\n",
       "      <th></th>\n",
       "      <th>voters</th>\n",
       "      <th>ballot</th>\n",
       "    </tr>\n",
       "  </thead>\n",
       "  <tbody>\n",
       "    <tr>\n",
       "      <th>0</th>\n",
       "      <td>5000</td>\n",
       "      <td>A&gt;B&gt;C&gt;D</td>\n",
       "    </tr>\n",
       "    <tr>\n",
       "      <th>1</th>\n",
       "      <td>2000</td>\n",
       "      <td>D&gt;C&gt;B&gt;A</td>\n",
       "    </tr>\n",
       "    <tr>\n",
       "      <th>2</th>\n",
       "      <td>3000</td>\n",
       "      <td>D&gt;B&gt;C&gt;A</td>\n",
       "    </tr>\n",
       "    <tr>\n",
       "      <th>3</th>\n",
       "      <td>1</td>\n",
       "      <td>A&gt;D&gt;C&gt;B</td>\n",
       "    </tr>\n",
       "  </tbody>\n",
       "</table>\n",
       "</div>"
      ],
      "text/plain": [
       "   voters   ballot\n",
       "0    5000  A>B>C>D\n",
       "1    2000  D>C>B>A\n",
       "2    3000  D>B>C>A\n",
       "3       1  A>D>C>B"
      ]
     },
     "execution_count": 4,
     "metadata": {},
     "output_type": "execute_result"
    }
   ],
   "source": [
    "data = [\n",
    "  {\"voters\": 5000, \"ballot\": \"A>B>C>D\"},\n",
    "  {\"voters\": 2000, \"ballot\": \"D>C>B>A\"},\n",
    "  {\"voters\": 3000, \"ballot\": \"D>B>C>A\"},\n",
    "  {\"voters\": 1, \"ballot\": \"A>D>C>B\"}\n",
    "]\n",
    "\n",
    "df = pd.DataFrame(data)\n",
    "\n",
    "df.head()"
   ]
  },
  {
   "cell_type": "code",
   "execution_count": 12,
   "metadata": {},
   "outputs": [
    {
     "ename": "KeyError",
     "evalue": "'rank'",
     "output_type": "error",
     "traceback": [
      "\u001b[1;31m---------------------------------------------------------------------------\u001b[0m",
      "\u001b[1;31mKeyError\u001b[0m                                  Traceback (most recent call last)",
      "File \u001b[1;32mc:\\Python39\\lib\\site-packages\\pandas\\core\\indexes\\base.py:3361\u001b[0m, in \u001b[0;36mIndex.get_loc\u001b[1;34m(self, key, method, tolerance)\u001b[0m\n\u001b[0;32m   3360\u001b[0m \u001b[39mtry\u001b[39;00m:\n\u001b[1;32m-> 3361\u001b[0m     \u001b[39mreturn\u001b[39;00m \u001b[39mself\u001b[39;49m\u001b[39m.\u001b[39;49m_engine\u001b[39m.\u001b[39;49mget_loc(casted_key)\n\u001b[0;32m   3362\u001b[0m \u001b[39mexcept\u001b[39;00m \u001b[39mKeyError\u001b[39;00m \u001b[39mas\u001b[39;00m err:\n",
      "File \u001b[1;32mc:\\Python39\\lib\\site-packages\\pandas\\_libs\\index.pyx:76\u001b[0m, in \u001b[0;36mpandas._libs.index.IndexEngine.get_loc\u001b[1;34m()\u001b[0m\n",
      "File \u001b[1;32mc:\\Python39\\lib\\site-packages\\pandas\\_libs\\index.pyx:108\u001b[0m, in \u001b[0;36mpandas._libs.index.IndexEngine.get_loc\u001b[1;34m()\u001b[0m\n",
      "File \u001b[1;32mpandas\\_libs\\hashtable_class_helper.pxi:5198\u001b[0m, in \u001b[0;36mpandas._libs.hashtable.PyObjectHashTable.get_item\u001b[1;34m()\u001b[0m\n",
      "File \u001b[1;32mpandas\\_libs\\hashtable_class_helper.pxi:5206\u001b[0m, in \u001b[0;36mpandas._libs.hashtable.PyObjectHashTable.get_item\u001b[1;34m()\u001b[0m\n",
      "\u001b[1;31mKeyError\u001b[0m: 'rank'",
      "\nThe above exception was the direct cause of the following exception:\n",
      "\u001b[1;31mKeyError\u001b[0m                                  Traceback (most recent call last)",
      "\u001b[1;32mc:\\Users\\cnavarreteliz\\Projects\\comchoice\\examples\\Manuscript.ipynb Cell 3\u001b[0m in \u001b[0;36m<cell line: 1>\u001b[1;34m()\u001b[0m\n\u001b[1;32m----> <a href='vscode-notebook-cell:/c%3A/Users/cnavarreteliz/Projects/comchoice/examples/Manuscript.ipynb#W2sZmlsZQ%3D%3D?line=0'>1</a>\u001b[0m borda(df), copeland(df), dowdall(df), plurality(df), majority_judgment(df)\n",
      "File \u001b[1;32mc:\\Users\\cnavarreteliz\\Projects\\comchoice\\comchoice\\aggregate\\majority_judgment.py:19\u001b[0m, in \u001b[0;36mmajority_judgment\u001b[1;34m(df, alternative, ballot, delimiter, dtype, ratings, show_rank, transform_kws, voters, e)\u001b[0m\n\u001b[0;32m      7\u001b[0m \u001b[39mdef\u001b[39;00m \u001b[39mmajority_judgment\u001b[39m(\n\u001b[0;32m      8\u001b[0m     df,\n\u001b[0;32m      9\u001b[0m     alternative\u001b[39m=\u001b[39m\u001b[39m\"\u001b[39m\u001b[39malternative\u001b[39m\u001b[39m\"\u001b[39m,\n\u001b[1;32m   (...)\u001b[0m\n\u001b[0;32m     17\u001b[0m     e\u001b[39m=\u001b[39m\u001b[39m0\u001b[39m\n\u001b[0;32m     18\u001b[0m ):\n\u001b[1;32m---> 19\u001b[0m     \u001b[39mreturn\u001b[39;00m judgment(\n\u001b[0;32m     20\u001b[0m         df,\n\u001b[0;32m     21\u001b[0m         alternative\u001b[39m=\u001b[39;49malternative,\n\u001b[0;32m     22\u001b[0m         ballot\u001b[39m=\u001b[39;49mballot,\n\u001b[0;32m     23\u001b[0m         delimiter\u001b[39m=\u001b[39;49mdelimiter,\n\u001b[0;32m     24\u001b[0m         dtype\u001b[39m=\u001b[39;49mdtype,\n\u001b[0;32m     25\u001b[0m         method\u001b[39m=\u001b[39;49m\u001b[39m\"\u001b[39;49m\u001b[39mmajority\u001b[39;49m\u001b[39m\"\u001b[39;49m,\n\u001b[0;32m     26\u001b[0m         ratings\u001b[39m=\u001b[39;49mratings,\n\u001b[0;32m     27\u001b[0m         show_rank\u001b[39m=\u001b[39;49mshow_rank,\n\u001b[0;32m     28\u001b[0m         transform_kws\u001b[39m=\u001b[39;49mtransform_kws,\n\u001b[0;32m     29\u001b[0m         voters\u001b[39m=\u001b[39;49mvoters,\n\u001b[0;32m     30\u001b[0m         e\u001b[39m=\u001b[39;49me\n\u001b[0;32m     31\u001b[0m     )\n",
      "File \u001b[1;32mc:\\Users\\cnavarreteliz\\Projects\\comchoice\\comchoice\\aggregate\\judgment.py:26\u001b[0m, in \u001b[0;36mjudgment\u001b[1;34m(df, alternative, ballot, delimiter, dtype, method, ratings, show_rank, transform_kws, voters, e)\u001b[0m\n\u001b[0;32m     23\u001b[0m df \u001b[39m=\u001b[39m df\u001b[39m.\u001b[39mcopy()\n\u001b[0;32m     25\u001b[0m \u001b[39mif\u001b[39;00m voters \u001b[39min\u001b[39;00m \u001b[39mlist\u001b[39m(df):\n\u001b[1;32m---> 26\u001b[0m     df \u001b[39m=\u001b[39m transform(\n\u001b[0;32m     27\u001b[0m         df\u001b[39m.\u001b[39mcopy(),\n\u001b[0;32m     28\u001b[0m         \u001b[39m*\u001b[39m\u001b[39m*\u001b[39m{\n\u001b[0;32m     29\u001b[0m             \u001b[39m*\u001b[39m\u001b[39m*\u001b[39mtransform_kws,\n\u001b[0;32m     30\u001b[0m             \u001b[39m*\u001b[39m\u001b[39m*\u001b[39m\u001b[39mdict\u001b[39m(\n\u001b[0;32m     31\u001b[0m                 ballot\u001b[39m=\u001b[39mballot,\n\u001b[0;32m     32\u001b[0m                 delimiter\u001b[39m=\u001b[39mdelimiter,\n\u001b[0;32m     33\u001b[0m                 voters\u001b[39m=\u001b[39mvoters,\n\u001b[0;32m     34\u001b[0m                 unique_id\u001b[39m=\u001b[39m\u001b[39mTrue\u001b[39;00m\n\u001b[0;32m     35\u001b[0m             )\n\u001b[0;32m     36\u001b[0m         }\n\u001b[0;32m     37\u001b[0m     )\n\u001b[0;32m     38\u001b[0m \u001b[39melse\u001b[39;00m:\n\u001b[0;32m     39\u001b[0m     df[voters] \u001b[39m=\u001b[39m \u001b[39m1\u001b[39m\n",
      "File \u001b[1;32mc:\\Users\\cnavarreteliz\\Projects\\comchoice\\comchoice\\preprocessing\\transform.py:30\u001b[0m, in \u001b[0;36mtransform\u001b[1;34m(df, dtype_from, dtype_to, delimiter, delimiter_ties, delimiter_score, alternative, alternative_a, alternative_b, selected, value, voter, voters, ballot, rmv, unique_id, ascending)\u001b[0m\n\u001b[0;32m     10\u001b[0m \u001b[39mdef\u001b[39;00m \u001b[39mtransform\u001b[39m(\n\u001b[0;32m     11\u001b[0m     df,\n\u001b[0;32m     12\u001b[0m     dtype_from\u001b[39m=\u001b[39m\u001b[39m\"\u001b[39m\u001b[39mballot\u001b[39m\u001b[39m\"\u001b[39m,\n\u001b[1;32m   (...)\u001b[0m\n\u001b[0;32m     27\u001b[0m     ascending\u001b[39m=\u001b[39m\u001b[39mFalse\u001b[39;00m\n\u001b[0;32m     28\u001b[0m ):\n\u001b[0;32m     29\u001b[0m     \u001b[39mif\u001b[39;00m dtype_from \u001b[39m==\u001b[39m \u001b[39m\"\u001b[39m\u001b[39mballot\u001b[39m\u001b[39m\"\u001b[39m \u001b[39mand\u001b[39;00m dtype_to \u001b[39m==\u001b[39m \u001b[39m\"\u001b[39m\u001b[39mballot_extended\u001b[39m\u001b[39m\"\u001b[39m:\n\u001b[1;32m---> 30\u001b[0m         \u001b[39mreturn\u001b[39;00m ballot_extend(\n\u001b[0;32m     31\u001b[0m             df,\n\u001b[0;32m     32\u001b[0m             ballot\u001b[39m=\u001b[39;49mballot,\n\u001b[0;32m     33\u001b[0m             delimiter\u001b[39m=\u001b[39;49mdelimiter,\n\u001b[0;32m     34\u001b[0m             delimiter_ties\u001b[39m=\u001b[39;49mdelimiter_ties,\n\u001b[0;32m     35\u001b[0m             rmv\u001b[39m=\u001b[39;49mrmv,\n\u001b[0;32m     36\u001b[0m             unique_id\u001b[39m=\u001b[39;49munique_id\n\u001b[0;32m     37\u001b[0m         )\n\u001b[0;32m     39\u001b[0m     \u001b[39melif\u001b[39;00m dtype_from \u001b[39m==\u001b[39m \u001b[39m\"\u001b[39m\u001b[39mscore\u001b[39m\u001b[39m\"\u001b[39m \u001b[39mand\u001b[39;00m dtype_to \u001b[39m==\u001b[39m \u001b[39m\"\u001b[39m\u001b[39mscore_extended\u001b[39m\u001b[39m\"\u001b[39m:\n\u001b[0;32m     40\u001b[0m         \u001b[39mreturn\u001b[39;00m score_extend(\n\u001b[0;32m     41\u001b[0m             df,\n\u001b[0;32m     42\u001b[0m             delimiter\u001b[39m=\u001b[39mdelimiter,\n\u001b[1;32m   (...)\u001b[0m\n\u001b[0;32m     46\u001b[0m             ascending\u001b[39m=\u001b[39mascending\n\u001b[0;32m     47\u001b[0m         )\n",
      "File \u001b[1;32mc:\\Users\\cnavarreteliz\\Projects\\comchoice\\comchoice\\preprocessing\\ballot_extend.py:13\u001b[0m, in \u001b[0;36mballot_extend\u001b[1;34m(df, ballot, delimiter, delimiter_ties, rmv, unique_id)\u001b[0m\n\u001b[0;32m      4\u001b[0m \u001b[39mdef\u001b[39;00m \u001b[39mballot_extend\u001b[39m(\n\u001b[0;32m      5\u001b[0m     df,\n\u001b[0;32m      6\u001b[0m     ballot\u001b[39m=\u001b[39m\u001b[39m\"\u001b[39m\u001b[39mballot\u001b[39m\u001b[39m\"\u001b[39m,\n\u001b[1;32m   (...)\u001b[0m\n\u001b[0;32m     10\u001b[0m     unique_id\u001b[39m=\u001b[39m\u001b[39mFalse\u001b[39;00m\n\u001b[0;32m     11\u001b[0m ):\n\u001b[0;32m     12\u001b[0m     df[\u001b[39m\"\u001b[39m\u001b[39m_id\u001b[39m\u001b[39m\"\u001b[39m] \u001b[39m=\u001b[39m \u001b[39mrange\u001b[39m(df\u001b[39m.\u001b[39mshape[\u001b[39m0\u001b[39m])\n\u001b[1;32m---> 13\u001b[0m     df[ballot] \u001b[39m=\u001b[39m df[ballot]\u001b[39m.\u001b[39mstr\u001b[39m.\u001b[39msplit(delimiter)\n\u001b[0;32m     14\u001b[0m     df \u001b[39m=\u001b[39m df\u001b[39m.\u001b[39mexplode(ballot)\n\u001b[0;32m     16\u001b[0m     df \u001b[39m=\u001b[39m df\u001b[39m.\u001b[39mrename(columns\u001b[39m=\u001b[39m{ballot: \u001b[39m\"\u001b[39m\u001b[39malternative\u001b[39m\u001b[39m\"\u001b[39m})\n",
      "File \u001b[1;32mc:\\Python39\\lib\\site-packages\\pandas\\core\\frame.py:3455\u001b[0m, in \u001b[0;36mDataFrame.__getitem__\u001b[1;34m(self, key)\u001b[0m\n\u001b[0;32m   3453\u001b[0m \u001b[39mif\u001b[39;00m \u001b[39mself\u001b[39m\u001b[39m.\u001b[39mcolumns\u001b[39m.\u001b[39mnlevels \u001b[39m>\u001b[39m \u001b[39m1\u001b[39m:\n\u001b[0;32m   3454\u001b[0m     \u001b[39mreturn\u001b[39;00m \u001b[39mself\u001b[39m\u001b[39m.\u001b[39m_getitem_multilevel(key)\n\u001b[1;32m-> 3455\u001b[0m indexer \u001b[39m=\u001b[39m \u001b[39mself\u001b[39;49m\u001b[39m.\u001b[39;49mcolumns\u001b[39m.\u001b[39;49mget_loc(key)\n\u001b[0;32m   3456\u001b[0m \u001b[39mif\u001b[39;00m is_integer(indexer):\n\u001b[0;32m   3457\u001b[0m     indexer \u001b[39m=\u001b[39m [indexer]\n",
      "File \u001b[1;32mc:\\Python39\\lib\\site-packages\\pandas\\core\\indexes\\base.py:3363\u001b[0m, in \u001b[0;36mIndex.get_loc\u001b[1;34m(self, key, method, tolerance)\u001b[0m\n\u001b[0;32m   3361\u001b[0m         \u001b[39mreturn\u001b[39;00m \u001b[39mself\u001b[39m\u001b[39m.\u001b[39m_engine\u001b[39m.\u001b[39mget_loc(casted_key)\n\u001b[0;32m   3362\u001b[0m     \u001b[39mexcept\u001b[39;00m \u001b[39mKeyError\u001b[39;00m \u001b[39mas\u001b[39;00m err:\n\u001b[1;32m-> 3363\u001b[0m         \u001b[39mraise\u001b[39;00m \u001b[39mKeyError\u001b[39;00m(key) \u001b[39mfrom\u001b[39;00m \u001b[39merr\u001b[39;00m\n\u001b[0;32m   3365\u001b[0m \u001b[39mif\u001b[39;00m is_scalar(key) \u001b[39mand\u001b[39;00m isna(key) \u001b[39mand\u001b[39;00m \u001b[39mnot\u001b[39;00m \u001b[39mself\u001b[39m\u001b[39m.\u001b[39mhasnans:\n\u001b[0;32m   3366\u001b[0m     \u001b[39mraise\u001b[39;00m \u001b[39mKeyError\u001b[39;00m(key)\n",
      "\u001b[1;31mKeyError\u001b[0m: 'rank'"
     ]
    }
   ],
   "source": [
    "borda(df), copeland(df), dowdall(df), plurality(df), majority_judgment(df)"
   ]
  }
 ],
 "metadata": {
  "kernelspec": {
   "display_name": "Python 3.9.4 64-bit",
   "language": "python",
   "name": "python3"
  },
  "language_info": {
   "codemirror_mode": {
    "name": "ipython",
    "version": 3
   },
   "file_extension": ".py",
   "mimetype": "text/x-python",
   "name": "python",
   "nbconvert_exporter": "python",
   "pygments_lexer": "ipython3",
   "version": "3.9.4"
  },
  "orig_nbformat": 4,
  "vscode": {
   "interpreter": {
    "hash": "81794d4967e6c3204c66dcd87b604927b115b27c00565d3d43f05ba2f3a2cb0d"
   }
  }
 },
 "nbformat": 4,
 "nbformat_minor": 2
}
