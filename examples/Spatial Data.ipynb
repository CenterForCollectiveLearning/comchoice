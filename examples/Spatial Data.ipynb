{
 "cells": [
  {
   "cell_type": "code",
   "execution_count": 1,
   "metadata": {},
   "outputs": [],
   "source": [
    "import os\n",
    "import pandas as pd\n",
    "parent_path = os.path.abspath(os.path.join(os.getcwd(), os.pardir))\n",
    "os.chdir(parent_path)\n",
    "\n",
    "# from comchoice.aggregate import ahp, bradley_terry, elo, condorcet, copeland, plurality,k_approval\n",
    "from comchoice.aggregate import spatial"
   ]
  },
  {
   "cell_type": "code",
   "execution_count": 2,
   "metadata": {},
   "outputs": [
    {
     "data": {
      "image/png": "[encoded data removed]",
      "text/plain": [
       "<Figure size 432x288 with 2 Axes>"
      ]
     },
     "metadata": {
      "needs_background": "light"
     },
     "output_type": "display_data"
    }
   ],
   "source": [
    "data = [\n",
    "   {\"voters\": 71, \"ballot\": \"A>B>C>D>E>F>G\" , \"grid_list\": (0,0), \"grid_split\": \"0,0\"},\n",
    "   {\"voters\": 59, \"ballot\": \"E>F>G>B>C>D>A\" , \"grid_list\": (0,1), \"grid_split\": \"0,1\"},\n",
    "   {\"voters\": 62, \"ballot\": \"D>B>E>C>A>F\" , \"grid_list\": (1,0), \"grid_split\": \"1,0\"},\n",
    "   {\"voters\": 55, \"ballot\": \"C>D>E>F>G>A>B\" , \"grid_list\": (1,1), \"grid_split\": \"1,1\"},\n",
    "   {\"voters\": 17, \"ballot\": \"A>B>C>D\" , \"grid_list\": (0,2), \"grid_split\": \"0,2\"},\n",
    "   {\"voters\": 53, \"ballot\": \"B>C>D>E\" , \"grid_list\": (2,0), \"grid_split\": \"2,0\"},\n",
    "   {\"voters\": 18, \"ballot\": \"D>B>C>F\" , \"grid_list\": (2,1), \"grid_split\": \"2,1\"},\n",
    "   {\"voters\": 60, \"ballot\": \"D>B>C>G\" , \"grid_list\": (1,2), \"grid_split\": \"1,2\"},\n",
    "   {\"voters\": 100, \"ballot\": \"C>D>A>B\" , \"grid_list\": (2,2), \"grid_split\": \"2,2\"},\n",
    "   {\"voters\": 71, \"ballot\": \"A>B>C>D\" , \"grid_list\": (0,0), \"grid_split\": \"0,0\"},\n",
    "   {\"voters\": 59, \"ballot\": \"B>C>D>A\" , \"grid_list\": (0,1), \"grid_split\": \"0,1\"},\n",
    "   {\"voters\": 62, \"ballot\": \"D>B>C>A\" , \"grid_list\": (1,0), \"grid_split\": \"1,0\"},\n",
    "   {\"voters\": 55, \"ballot\": \"A>D>E>B\" , \"grid_list\": (1,1), \"grid_split\": \"1,1\"},\n",
    "   {\"voters\": 17, \"ballot\": \"E>F>G>D\" , \"grid_list\": (0,2), \"grid_split\": \"0,2\"},\n",
    "   {\"voters\": 53, \"ballot\": \"A>C>D>F\" , \"grid_list\": (2,0), \"grid_split\": \"2,0\"},\n",
    "   {\"voters\": 18, \"ballot\": \"D>B>C>G\" , \"grid_list\": (2,1), \"grid_split\": \"2,1\"},\n",
    "   {\"voters\": 60, \"ballot\": \"A>B>C>E\" , \"grid_list\": (1,2), \"grid_split\": \"1,2\"},\n",
    "   {\"voters\": 100, \"ballot\": \"C>D>A>B\" , \"grid_list\": (2,2), \"grid_split\": \"2,2\"},\n",
    "]\n",
    "\n",
    "df = pd.DataFrame(data)\n",
    "winners = spatial(df, column_group=\"grid_split\", delimiter=\",\", method=\"elo\")"
   ]
  },
  {
   "cell_type": "code",
   "execution_count": 5,
   "metadata": {},
   "outputs": [
    {
     "name": "stdout",
     "output_type": "stream",
     "text": [
      "Different winners as we run different methods\n"
     ]
    },
    {
     "data": {
      "image/png": "[encoded data removed]",
      "text/plain": [
       "<Figure size 432x288 with 2 Axes>"
      ]
     },
     "metadata": {
      "needs_background": "light"
     },
     "output_type": "display_data"
    },
    {
     "data": {
      "image/png": "[encoded data removed]",
      "text/plain": [
       "<Figure size 432x288 with 2 Axes>"
      ]
     },
     "metadata": {
      "needs_background": "light"
     },
     "output_type": "display_data"
    },
    {
     "data": {
      "image/png": "[encoded data removed]",
      "text/plain": [
       "<Figure size 432x288 with 2 Axes>"
      ]
     },
     "metadata": {
      "needs_background": "light"
     },
     "output_type": "display_data"
    },
    {
     "data": {
      "image/png": "[encoded data removed]",
      "text/plain": [
       "<Figure size 432x288 with 2 Axes>"
      ]
     },
     "metadata": {
      "needs_background": "light"
     },
     "output_type": "display_data"
    }
   ],
   "source": [
    "spatial(df, column_group=\"grid_split\", delimiter=\",\", method=\"elo\")\n",
    "spatial(df, column_group=\"grid_split\", delimiter=\",\", method=\"copeland\")\n",
    "spatial(df, column_group=\"grid_split\", delimiter=\",\", method=\"condocert\")\n",
    "spatial(df, column_group=\"grid_split\", delimiter=\",\", method=\"plurality\")\n",
    "print(\"Different winners as we run different methods\")"
   ]
  },
  {
   "cell_type": "code",
   "execution_count": null,
   "metadata": {},
   "outputs": [],
   "source": []
  }
 ],
 "metadata": {
  "kernelspec": {
   "display_name": "Python 3.9.12 ('base')",
   "language": "python",
   "name": "python3"
  },
  "language_info": {
   "codemirror_mode": {
    "name": "ipython",
    "version": 3
   },
   "file_extension": ".py",
   "mimetype": "text/x-python",
   "name": "python",
   "nbconvert_exporter": "python",
   "pygments_lexer": "ipython3",
   "version": "3.9.12"
  },
  "orig_nbformat": 4,
  "vscode": {
   "interpreter": {
    "hash": "c23edfd6b24a66f492375d451140aa4c668056d401d6312b5d18095ff87e397a"
   }
  }
 },
 "nbformat": 4,
 "nbformat_minor": 2
}
